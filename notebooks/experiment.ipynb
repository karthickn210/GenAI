{
 "cells": [
  {
   "cell_type": "markdown",
   "metadata": {},
   "source": [
    "## Just call the ollama with pythonic way"
   ]
  },
  {
   "cell_type": "code",
   "execution_count": 2,
   "metadata": {},
   "outputs": [],
   "source": [
    "## Import and initialize the model in out code\n",
    "\n",
    "from langchain_community.llms import Ollama\n",
    "\n",
    "llm = Ollama(model=\"llama3.1\")"
   ]
  },
  {
   "cell_type": "code",
   "execution_count": 3,
   "metadata": {},
   "outputs": [
    {
     "data": {
      "text/plain": [
       "\"Hello there, fellow creature of the Andes... er, I mean, hello there human friend! How's your day going? Do you have any questions about llamas or would you like to chat about something else entirely?\""
      ]
     },
     "execution_count": 3,
     "metadata": {},
     "output_type": "execute_result"
    }
   ],
   "source": [
    "## Give a try to call with some greetings\n",
    "\n",
    "result = llm.invoke(\"Hello llama\")\n",
    "result"
   ]
  },
  {
   "cell_type": "code",
   "execution_count": 5,
   "metadata": {},
   "outputs": [
    {
     "data": {
      "text/plain": [
       "ChatPromptTemplate(input_variables=['context', 'question'], messages=[HumanMessagePromptTemplate(prompt=PromptTemplate(input_variables=['context', 'question'], template='\\n    Answer the below question\\n\\n    Here is the conversation history : {context}\\n\\n    Question : {question}\\n\\n    Answer :\\n'))])"
      ]
     },
     "execution_count": 5,
     "metadata": {},
     "output_type": "execute_result"
    }
   ],
   "source": [
    "from langchain_core.prompts import ChatPromptTemplate\n",
    "\n",
    "template = \"\"\"\n",
    "    Answer the below question\n",
    "\n",
    "    Here is the conversation history : {context}\n",
    "\n",
    "    Question : {question}\n",
    "\n",
    "    Answer :\n",
    "\"\"\"\n",
    "\n",
    "prompt = ChatPromptTemplate.from_template(template)\n",
    "\n",
    "prompt"
   ]
  },
  {
   "cell_type": "code",
   "execution_count": 6,
   "metadata": {},
   "outputs": [
    {
     "data": {
      "text/plain": [
       "ChatPromptTemplate(input_variables=['context', 'question'], messages=[HumanMessagePromptTemplate(prompt=PromptTemplate(input_variables=['context', 'question'], template='\\n    Answer the below question\\n\\n    Here is the conversation history : {context}\\n\\n    Question : {question}\\n\\n    Answer :\\n'))])\n",
       "| Ollama(model='llama3.1')"
      ]
     },
     "execution_count": 6,
     "metadata": {},
     "output_type": "execute_result"
    }
   ],
   "source": [
    "# lets create a chain to use this model and prompt which we have created\n",
    "\n",
    "chain = prompt | llm\n",
    "\n",
    "chain"
   ]
  },
  {
   "cell_type": "code",
   "execution_count": 7,
   "metadata": {},
   "outputs": [
    {
     "data": {
      "text/plain": [
       "\"I'm doing great, thanks for asking!\""
      ]
     },
     "execution_count": 7,
     "metadata": {},
     "output_type": "execute_result"
    }
   ],
   "source": [
    "result = chain.invoke({\n",
    "                        \"context\" : \"\",\n",
    "                        \"question\": \"How are you doing\",\n",
    "                       })\n",
    "\n",
    "result"
   ]
  },
  {
   "cell_type": "markdown",
   "metadata": {},
   "source": [
    "## Now lets convert this notebook into the executable script"
   ]
  },
  {
   "cell_type": "markdown",
   "metadata": {},
   "source": [
    "#### References"
   ]
  },
  {
   "cell_type": "code",
   "execution_count": 9,
   "metadata": {},
   "outputs": [],
   "source": [
    "def handle_conversation():\n",
    "    context = \"\"\n",
    "    print(\"I'm an helping assistant, May I know how can I help you. To exit enter the text 'exit' to quit \")\n",
    "\n",
    "    while True:\n",
    "        user_input = input(\"You: \")\n",
    "\n",
    "        if user_input.lower() == 'exit' or user_input.lower() == 'quit':\n",
    "            print(\"Thanks for using the assistant Bye.!\")\n",
    "            break\n",
    "        else:\n",
    "            result = chain.invoke({\n",
    "                        \"context\" : context,\n",
    "                        \"question\": user_input,\n",
    "                       })\n",
    "            print(\"Bot: \",result)\n",
    "\n",
    "            context += f\"\\n User: {user_input}\\n AI: {result}\""
   ]
  },
  {
   "cell_type": "code",
   "execution_count": 10,
   "metadata": {},
   "outputs": [
    {
     "name": "stdout",
     "output_type": "stream",
     "text": [
      "I'm an helping assistant, May I know how can I help you. To exit enter the text 'exit' to quit \n",
      "Bot:  I'm doing well, thanks for asking.\n",
      "Bot:  Based on our previous conversation where you asked \"how are you\" and I replied \"I'm doing well\", it's likely that you're checking in with me to see how I'm feeling. In response, I'd say:\n",
      "\n",
      "\"You're probably asking because you care about how I'm doing! Thanks for the thought.\"\n",
      "Thanks for using the assistant Bye.!\n"
     ]
    }
   ],
   "source": [
    "handle_conversation()"
   ]
  }
 ],
 "metadata": {
  "kernelspec": {
   "display_name": ".venv",
   "language": "python",
   "name": "python3"
  },
  "language_info": {
   "codemirror_mode": {
    "name": "ipython",
    "version": 3
   },
   "file_extension": ".py",
   "mimetype": "text/x-python",
   "name": "python",
   "nbconvert_exporter": "python",
   "pygments_lexer": "ipython3",
   "version": "3.11.9"
  }
 },
 "nbformat": 4,
 "nbformat_minor": 2
}
